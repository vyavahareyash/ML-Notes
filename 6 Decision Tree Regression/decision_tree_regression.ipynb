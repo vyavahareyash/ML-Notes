{
 "cells": [
  {
   "cell_type": "markdown",
   "id": "4859cdda",
   "metadata": {},
   "source": [
    "# Decision Tree Regression"
   ]
  },
  {
   "cell_type": "markdown",
   "id": "98d4e326",
   "metadata": {},
   "source": [
    "## Importing the libraries"
   ]
  },
  {
   "cell_type": "code",
   "execution_count": 1,
   "id": "fa4f55c9",
   "metadata": {},
   "outputs": [],
   "source": [
    "import numpy as np\n",
    "import pandas as pd\n",
    "import matplotlib.pyplot as plt"
   ]
  },
  {
   "cell_type": "markdown",
   "id": "5eec937d",
   "metadata": {},
   "source": [
    "## Importing the dataset"
   ]
  },
  {
   "cell_type": "code",
   "execution_count": 2,
   "id": "04f18668",
   "metadata": {},
   "outputs": [],
   "source": [
    "dataset = pd.read_csv('Position_Salaries.csv')\n",
    "x = dataset.iloc[:,1:-1].values\n",
    "y = dataset.iloc[:,-1].values"
   ]
  },
  {
   "cell_type": "markdown",
   "id": "62d455c6",
   "metadata": {},
   "source": [
    "## Training the Decision Tree Regression model on the whole dataset"
   ]
  },
  {
   "cell_type": "code",
   "execution_count": 6,
   "id": "f9a3ce39",
   "metadata": {},
   "outputs": [],
   "source": [
    "from sklearn.tree import DecisionTreeRegressor\n",
    "regressor = DecisionTreeRegressor(random_state = 0)"
   ]
  },
  {
   "cell_type": "code",
   "execution_count": 7,
   "id": "ee6d0ec3",
   "metadata": {},
   "outputs": [
    {
     "data": {
      "text/plain": [
       "DecisionTreeRegressor(random_state=0)"
      ]
     },
     "execution_count": 7,
     "metadata": {},
     "output_type": "execute_result"
    }
   ],
   "source": [
    "regressor.fit(x,y)"
   ]
  },
  {
   "cell_type": "markdown",
   "id": "fc3e519d",
   "metadata": {},
   "source": [
    "## Predict a new result"
   ]
  },
  {
   "cell_type": "code",
   "execution_count": 9,
   "id": "e326ddf6",
   "metadata": {},
   "outputs": [
    {
     "name": "stdout",
     "output_type": "stream",
     "text": [
      "[150000.]\n"
     ]
    }
   ],
   "source": [
    "print(regressor.predict([[6.5]]))"
   ]
  },
  {
   "cell_type": "markdown",
   "id": "ee505143",
   "metadata": {},
   "source": [
    "## Visualising the Decision Tree Regression results (higher resolution)"
   ]
  },
  {
   "cell_type": "code",
   "execution_count": 16,
   "id": "c7b0a47e",
   "metadata": {},
   "outputs": [
    {
     "data": {
      "image/png": "[encoded data removed]",
      "text/plain": [
       "<Figure size 432x288 with 1 Axes>"
      ]
     },
     "metadata": {
      "needs_background": "light"
     },
     "output_type": "display_data"
    }
   ],
   "source": [
    "x_grid = np.arange(min(x), max(x), 0.1)\n",
    "x_grid = x_grid.reshape(len(x_grid),1)\n",
    "plt.scatter(x,y,color='red')\n",
    "plt.plot(x_grid,regressor.predict(x_grid),color='blue')\n",
    "plt.title('Level vs Salary (Decision Tree Regression)')\n",
    "plt.xlabel('Position Level')\n",
    "plt.ylabel('Salary')\n",
    "plt.show()"
   ]
  }
 ],
 "metadata": {
  "kernelspec": {
   "display_name": "Python 3 (ipykernel)",
   "language": "python",
   "name": "python3"
  },
  "language_info": {
   "codemirror_mode": {
    "name": "ipython",
    "version": 3
   },
   "file_extension": ".py",
   "mimetype": "text/x-python",
   "name": "python",
   "nbconvert_exporter": "python",
   "pygments_lexer": "ipython3",
   "version": "3.9.7"
  }
 },
 "nbformat": 4,
 "nbformat_minor": 5
}
